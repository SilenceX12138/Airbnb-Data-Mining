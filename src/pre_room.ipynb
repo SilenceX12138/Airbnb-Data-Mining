{
 "metadata": {
  "language_info": {
   "codemirror_mode": {
    "name": "ipython",
    "version": 3
   },
   "file_extension": ".py",
   "mimetype": "text/x-python",
   "name": "python",
   "nbconvert_exporter": "python",
   "pygments_lexer": "ipython3",
   "version": "3.8.1"
  },
  "orig_nbformat": 2,
  "kernelspec": {
   "name": "python381jvsc74a57bd0e2e1f6a47c2b22aa38ff4f44d0d21f0cf81fc40f5c0e12b6a1c9dbd62fd843ec",
   "display_name": "Python 3.8.1 64-bit"
  }
 },
 "nbformat": 4,
 "nbformat_minor": 2,
 "cells": [
  {
   "cell_type": "code",
   "execution_count": 1,
   "metadata": {},
   "outputs": [],
   "source": [
    "import pandas as pd"
   ]
  },
  {
   "cell_type": "code",
   "execution_count": 2,
   "metadata": {},
   "outputs": [],
   "source": [
    "# CITY = 'beijing'\n",
    "CITY = 'shanghai'"
   ]
  },
  {
   "cell_type": "code",
   "execution_count": 3,
   "metadata": {},
   "outputs": [],
   "source": [
    "room_df = pd.read_csv('./data/{}/room.csv.bak'.format(CITY))\n",
    "host_df = pd.read_csv('./data/{}/host.csv.bak'.format(CITY))"
   ]
  },
  {
   "cell_type": "code",
   "execution_count": 4,
   "metadata": {},
   "outputs": [],
   "source": [
    "def filter_noise(raw_room_df:pd.DataFrame):\n",
    "    room_df = raw_room_df.copy(deep=True)\n",
    "    room_df = room_df.drop(['amenities'], axis=1)\n",
    "    drop_index_list = room_df[room_df['price']==0].index.tolist()\n",
    "    room_df = room_df.drop(drop_index_list)\n",
    "    # three sigma principle\n",
    "    neighbourhood_group = room_df.groupby('neighbourhood')\n",
    "    mean_price = neighbourhood_group['price'].mean() \n",
    "    std_price = neighbourhood_group['price'].std()\n",
    "    up_lim = mean_price +  3 * std_price\n",
    "    low_lim = mean_price - 3* std_price\n",
    "    valid_room_df_list = []\n",
    "    for name, room in neighbourhood_group:\n",
    "        valid_room_df_list.append(room_df[(room_df['neighbourhood']==name) & (room_df['price'] <= up_lim[name]) & (room_df['price'] >= low_lim[name])])\n",
    "    room_df = pd.concat(valid_room_df_list)\n",
    "    return room_df"
   ]
  },
  {
   "cell_type": "code",
   "execution_count": 5,
   "metadata": {},
   "outputs": [],
   "source": [
    "def format_room(raw_room_df:pd.DataFrame):\n",
    "    room_df = raw_room_df.copy(deep=True)\n",
    "    room_df = room_df.fillna(value=0)\n",
    "    # fill blanks before chang column type\n",
    "    room_df['bedrooms']= room_df['bedrooms'].astype(int)\n",
    "    room_df['beds']=room_df['beds'].astype(int)\n",
    "    return room_df"
   ]
  },
  {
   "cell_type": "code",
   "execution_count": 6,
   "metadata": {},
   "outputs": [],
   "source": [
    "def get_best_room_df(raw_room_df:pd.DataFrame):\n",
    "    room_df = raw_room_df.copy(deep=False)\n",
    "    review_num_lim = room_df['number_of_reviews'].quantile(0.9)\n",
    "    review_score_lim = room_df['review_scores_rating'].quantile(0.9)\n",
    "    best_room_df = room_df[(room_df['number_of_reviews']>=review_num_lim) & (room_df['review_scores_rating']>=review_score_lim)]\n",
    "    return best_room_df    "
   ]
  },
  {
   "cell_type": "code",
   "execution_count": 7,
   "metadata": {},
   "outputs": [],
   "source": [
    "def preprocess_room(raw_room_df:pd.DataFrame):\n",
    "    room_df = raw_room_df.copy(deep=True)\n",
    "    room_df = filter_noise(room_df)\n",
    "    room_df = format_room(room_df)\n",
    "    best_room_df = get_best_room_df(room_df)\n",
    "    return room_df, best_room_df"
   ]
  },
  {
   "cell_type": "code",
   "execution_count": 8,
   "metadata": {},
   "outputs": [],
   "source": [
    "room_df, best_room_df = preprocess_room(room_df)"
   ]
  },
  {
   "cell_type": "code",
   "execution_count": 9,
   "metadata": {},
   "outputs": [],
   "source": [
    "room_df.to_csv('./data/{}/room.csv'.format(CITY),index=False)"
   ]
  },
  {
   "cell_type": "code",
   "execution_count": 10,
   "metadata": {},
   "outputs": [],
   "source": [
    "best_room_df.to_csv('./data/{}/best_room.csv'.format(CITY),index=False)"
   ]
  },
  {
   "cell_type": "code",
   "execution_count": 11,
   "metadata": {},
   "outputs": [
    {
     "output_type": "stream",
     "name": "stdout",
     "text": [
      "<class 'pandas.core.frame.DataFrame'>\nInt64Index: 14676 entries, 76 to 14874\nData columns (total 16 columns):\n #   Column                Non-Null Count  Dtype  \n---  ------                --------------  -----  \n 0   room_id               14676 non-null  int64  \n 1   host_id               14676 non-null  int64  \n 2   neighbourhood         14676 non-null  object \n 3   name                  14676 non-null  object \n 4   latitude              14676 non-null  float64\n 5   longitude             14676 non-null  float64\n 6   room_type             14676 non-null  object \n 7   accommodates          14676 non-null  int64  \n 8   bedrooms              14676 non-null  int32  \n 9   beds                  14676 non-null  int32  \n 10  instant_bookable      14676 non-null  object \n 11  first_review          14676 non-null  object \n 12  last_review           14676 non-null  object \n 13  number_of_reviews     14676 non-null  int64  \n 14  review_scores_rating  14676 non-null  float64\n 15  price                 14676 non-null  float64\ndtypes: float64(4), int32(2), int64(4), object(6)\nmemory usage: 1.8+ MB\n"
     ]
    }
   ],
   "source": [
    "room_df.info()"
   ]
  }
 ]
}