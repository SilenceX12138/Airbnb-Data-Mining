{
 "metadata": {
  "language_info": {
   "codemirror_mode": {
    "name": "ipython",
    "version": 3
   },
   "file_extension": ".py",
   "mimetype": "text/x-python",
   "name": "python",
   "nbconvert_exporter": "python",
   "pygments_lexer": "ipython3",
   "version": "3.8.1"
  },
  "orig_nbformat": 2,
  "kernelspec": {
   "name": "python381jvsc74a57bd0e2e1f6a47c2b22aa38ff4f44d0d21f0cf81fc40f5c0e12b6a1c9dbd62fd843ec",
   "display_name": "Python 3.8.1 64-bit"
  }
 },
 "nbformat": 4,
 "nbformat_minor": 2,
 "cells": [
  {
   "cell_type": "code",
   "execution_count": 1,
   "metadata": {},
   "outputs": [],
   "source": [
    "import pandas as pd\n",
    "from datetime import datetime"
   ]
  },
  {
   "cell_type": "code",
   "execution_count": 2,
   "metadata": {},
   "outputs": [],
   "source": [
    "# CITY = 'beijing'\n",
    "CITY = 'shanghai'"
   ]
  },
  {
   "cell_type": "code",
   "execution_count": 3,
   "metadata": {},
   "outputs": [],
   "source": [
    "room_df = pd.read_csv('./data/{}/room.csv.bak'.format(CITY))\n",
    "host_df = pd.read_csv('./data/{}/host.csv.bak'.format(CITY))"
   ]
  },
  {
   "cell_type": "code",
   "execution_count": 4,
   "metadata": {},
   "outputs": [],
   "source": [
    "def stats_income(room_df: pd.DataFrame, raw_host_df: pd.DataFrame):\n",
    "    host_df = raw_host_df.copy(deep=True)\n",
    "    for host_id in host_df['host_id']:\n",
    "        temp_room_df = room_df[room_df['host_id']==host_id]\n",
    "        room_cnt = len(temp_room_df)\n",
    "        total_income = (temp_room_df['price'] * temp_room_df['number_of_reviews']).sum()\n",
    "        time_span = (datetime(2021,2,22) - pd.to_datetime(host_df[host_df['host_id']==host_id]['host_since'].values[0])).days\n",
    "        host_df.loc[host_df['host_id']==host_id, 'room_count'] = room_cnt\n",
    "        host_df.loc[host_df['host_id']==host_id,'income'] = total_income\n",
    "        host_df.loc[host_df['host_id']==host_id,'daily_income'] = total_income / time_span\n",
    "        host_df.loc[host_df['host_id']==host_id,'ave_room_income'] = total_income / (time_span*room_cnt)\n",
    "    return host_df"
   ]
  },
  {
   "cell_type": "code",
   "execution_count": 5,
   "metadata": {},
   "outputs": [],
   "source": [
    "def tag_host(raw_host_df:pd.DataFrame):\n",
    "    host_df = raw_host_df.copy(deep=True)\n",
    "    host_df['is_single']=host_df['room_count'].map(lambda x: 't' if x < 5 else 'f')\n",
    "\n",
    "    best_room_df=pd.read_csv('./data/beijing/best_room.csv')\n",
    "    best_host_id_list = best_room_df['host_id'].values.tolist()\n",
    "    host_df['is_best'] = host_df['host_id'].map(lambda x: 't' if x in best_host_id_list else 'f')\n",
    "    return host_df"
   ]
  },
  {
   "cell_type": "code",
   "execution_count": 6,
   "metadata": {},
   "outputs": [],
   "source": [
    "def format_host(raw_host_df:pd.DataFrame):\n",
    "    host_df = raw_host_df.copy(deep=True)\n",
    "    host_df['host_response_rate'] = host_df['host_response_rate'].map(lambda x: x if pd.isna(x) else round(float(x[:-1])/100,2))\n",
    "    host_df = host_df.fillna(round(host_df.mean(), 2))\n",
    "    host_df = host_df.fillna({'host_identity_verified': 'f', 'host_name':'_', 'host_has_profile_pic': 'f'})\n",
    "    host_df[['room_count']]=host_df[['room_count']].astype(int)\n",
    "    for host_id in host_df[pd.isna(host_df['host_since'])]['host_id']:\n",
    "        host_df.loc[host_df['host_id']==host_id, 'host_since']=room_df[room_df['host_id']==host_id].sort_values(by='first_review')['first_review'].values[0]\n",
    "    return host_df"
   ]
  },
  {
   "cell_type": "code",
   "execution_count": 7,
   "metadata": {},
   "outputs": [],
   "source": [
    "def preprocess_host(room_df: pd.DataFrame, raw_host_df: pd.DataFrame):\n",
    "    host_df = raw_host_df.copy(deep=True)\n",
    "    host_df = stats_income(room_df, host_df)\n",
    "    host_df = tag_host(host_df)\n",
    "    host_df = format_host(host_df)\n",
    "    return host_df"
   ]
  },
  {
   "cell_type": "code",
   "execution_count": 8,
   "metadata": {},
   "outputs": [],
   "source": [
    "host_df = preprocess_host(room_df, host_df)"
   ]
  },
  {
   "cell_type": "code",
   "execution_count": 9,
   "metadata": {},
   "outputs": [],
   "source": [
    "host_df.to_csv('./data/{}/host.csv'.format(CITY), index=False)"
   ]
  },
  {
   "cell_type": "code",
   "execution_count": 10,
   "metadata": {},
   "outputs": [
    {
     "output_type": "stream",
     "name": "stdout",
     "text": [
      "<class 'pandas.core.frame.DataFrame'>\nRangeIndex: 4865 entries, 0 to 4864\nData columns (total 12 columns):\n #   Column                  Non-Null Count  Dtype  \n---  ------                  --------------  -----  \n 0   host_id                 4865 non-null   int64  \n 1   host_name               4865 non-null   object \n 2   host_since              4865 non-null   object \n 3   host_has_profile_pic    4865 non-null   object \n 4   host_identity_verified  4865 non-null   object \n 5   host_response_rate      4865 non-null   float64\n 6   room_count              4865 non-null   int32  \n 7   income                  4865 non-null   float64\n 8   daily_income            4865 non-null   float64\n 9   ave_room_income         4865 non-null   float64\n 10  is_single               4865 non-null   object \n 11  is_best                 4865 non-null   object \ndtypes: float64(4), int32(1), int64(1), object(6)\nmemory usage: 437.2+ KB\n"
     ]
    }
   ],
   "source": [
    "host_df.info()"
   ]
  }
 ]
}