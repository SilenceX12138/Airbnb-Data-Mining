{
 "metadata": {
  "language_info": {
   "codemirror_mode": {
    "name": "ipython",
    "version": 3
   },
   "file_extension": ".py",
   "mimetype": "text/x-python",
   "name": "python",
   "nbconvert_exporter": "python",
   "pygments_lexer": "ipython3",
   "version": "3.8.1"
  },
  "orig_nbformat": 2,
  "kernelspec": {
   "name": "python381jvsc74a57bd0e2e1f6a47c2b22aa38ff4f44d0d21f0cf81fc40f5c0e12b6a1c9dbd62fd843ec",
   "display_name": "Python 3.8.1 64-bit"
  }
 },
 "nbformat": 4,
 "nbformat_minor": 2,
 "cells": [
  {
   "cell_type": "code",
   "execution_count": 1,
   "metadata": {},
   "outputs": [],
   "source": [
    "import re\n",
    "import pandas as pd"
   ]
  },
  {
   "cell_type": "code",
   "execution_count": 2,
   "metadata": {},
   "outputs": [],
   "source": [
    "CITY='beijing'\n",
    "# CITY='shanghai'"
   ]
  },
  {
   "cell_type": "code",
   "execution_count": 3,
   "metadata": {},
   "outputs": [],
   "source": [
    "room_df = pd.read_csv('./data/{}/room.csv.bak'.format(CITY))\n",
    "best_room_df = pd.read_csv('./data/{}/best_room.csv'.format(CITY))"
   ]
  },
  {
   "cell_type": "code",
   "execution_count": 5,
   "metadata": {},
   "outputs": [
    {
     "output_type": "execute_result",
     "data": {
      "text/plain": [
       "       room_id    host_id neighbourhood  \\\n",
       "250   12689987   68973377           朝阳区   \n",
       "434   15488817   68973377           朝阳区   \n",
       "1592  24544877  184230719           朝阳区   \n",
       "3392  32905425  198762745           密云区   \n",
       "593   17370399   88123574           顺义区   \n",
       "...        ...        ...           ...   \n",
       "7565  44053521  342826012           通州区   \n",
       "510   16375548  106955956           朝阳区   \n",
       "9409  48007936  136347087           丰台区   \n",
       "8806  46249198  374503328           朝阳区   \n",
       "5536  37442910    4841273           朝阳区   \n",
       "\n",
       "                                                   name  latitude  longitude  \\\n",
       "250                     Artistic apartment with culture  39.92300  116.57996   \n",
       "434                  Hotel apartment close to huge Mall  39.92077  116.59115   \n",
       "1592               国贸CBD天安门王府井双井欢乐谷百子湾大望路四惠地铁温馨南北通透超大三居  39.89765  116.51313   \n",
       "3392  题目：北京密云城区/半岛营地/万象城+独立主卧（双人床）+设施齐全+干净整洁+适合出差旅游或...  40.36992  116.83090   \n",
       "593                            特价临近首都机场新国展豪华特色大两居（细心茶社）  40.03066  116.67260   \n",
       "...                                                 ...       ...        ...   \n",
       "7565              「网红文艺loft沙发客」近京东 便宜舒适 可看电视 可办公 房东nice  39.81510  116.59033   \n",
       "510   对外经贸大学北京服装学院芍药居安贞望京南锣鼓巷后海鸟巢水立方地铁附近网红房客厅沙发床位出租（...  39.97739  116.43111   \n",
       "9409                                      近地铁8号14号线舒适床位  39.85926  116.39329   \n",
       "8806   女生四人间，上下床。立水桥南站30米。可长租复式结构。超干净房间，时尚超舒适床铺。小姐姐很爱干净  40.04378  116.41459   \n",
       "5536           超高性价比 | 呼家楼地铁站口 | 近国贸/三里屯/工体 简约温馨大一居尽享繁华  39.92306  116.46598   \n",
       "\n",
       "            room_type  accommodates  bedrooms  beds      price  \\\n",
       "250   Entire home/apt             6       3.0   3.0  421642.10   \n",
       "434   Entire home/apt             4       2.0   3.0  413636.32   \n",
       "1592  Entire home/apt             6       3.0   3.0  390494.00   \n",
       "3392     Private room             2       1.0   1.0  359150.00   \n",
       "593   Entire home/apt             4       2.0   3.0  239428.98   \n",
       "...               ...           ...       ...   ...        ...   \n",
       "7565      Shared room             1       1.0   1.0     424.45   \n",
       "510       Shared room             1       1.0   1.0     424.45   \n",
       "9409      Shared room             1       1.0   1.0     404.86   \n",
       "8806      Shared room             4       1.0   4.0     365.68   \n",
       "5536  Entire home/apt             2       1.0   1.0       0.00   \n",
       "\n",
       "                                              amenities instant_bookable  \\\n",
       "250   [\"Hot tub\", \"Breakfast\", \"Wifi\", \"Cable TV\", \"...                f   \n",
       "434   [\"Wifi\", \"Carbon monoxide alarm\", \"Shampoo\", \"...                f   \n",
       "1592  [\"Free street parking\", \"Wifi\", \"Heating\", \"Fi...                f   \n",
       "3392  [\"Lock on bedroom door\", \"Wifi\", \"Shampoo\", \"H...                f   \n",
       "593   [\"Room-darkening shades\", \"Free street parking...                f   \n",
       "...                                                 ...              ...   \n",
       "7565  [\"Wifi\", \"Shampoo\", \"Heating\", \"Long term stay...                t   \n",
       "510   [\"Wifi\", \"Shampoo\", \"Heating\", \"TV\", \"Essentia...                t   \n",
       "9409  [\"Wifi\", \"Cooking basics\", \"Shampoo\", \"Heating...                t   \n",
       "8806  [\"Wifi\", \"Shampoo\", \"Heating\", \"Long term stay...                t   \n",
       "5536  [\"Paid parking off premises\", \"Microwave\", \"Di...                f   \n",
       "\n",
       "     first_review last_review  number_of_reviews  review_scores_rating  \n",
       "250    2016-05-17  2016-06-03                  2                 100.0  \n",
       "434    2016-11-29  2017-04-17                 16                  86.0  \n",
       "1592   2018-05-26  2019-02-10                 17                  98.0  \n",
       "3392   2019-04-06  2019-04-06                  1                 100.0  \n",
       "593    2017-03-01  2019-11-16                139                  96.0  \n",
       "...           ...         ...                ...                   ...  \n",
       "7565   2020-08-21  2020-08-31                  3                  93.0  \n",
       "510    2019-09-09  2020-11-13                 12                 100.0  \n",
       "9409   2021-02-05  2021-02-05                  1                 100.0  \n",
       "8806   2020-12-06  2020-12-06                  1                 100.0  \n",
       "5536   2019-08-26  2021-01-25                 24                 100.0  \n",
       "\n",
       "[9438 rows x 17 columns]"
      ],
      "text/html": "<div>\n<style scoped>\n    .dataframe tbody tr th:only-of-type {\n        vertical-align: middle;\n    }\n\n    .dataframe tbody tr th {\n        vertical-align: top;\n    }\n\n    .dataframe thead th {\n        text-align: right;\n    }\n</style>\n<table border=\"1\" class=\"dataframe\">\n  <thead>\n    <tr style=\"text-align: right;\">\n      <th></th>\n      <th>room_id</th>\n      <th>host_id</th>\n      <th>neighbourhood</th>\n      <th>name</th>\n      <th>latitude</th>\n      <th>longitude</th>\n      <th>room_type</th>\n      <th>accommodates</th>\n      <th>bedrooms</th>\n      <th>beds</th>\n      <th>price</th>\n      <th>amenities</th>\n      <th>instant_bookable</th>\n      <th>first_review</th>\n      <th>last_review</th>\n      <th>number_of_reviews</th>\n      <th>review_scores_rating</th>\n    </tr>\n  </thead>\n  <tbody>\n    <tr>\n      <th>250</th>\n      <td>12689987</td>\n      <td>68973377</td>\n      <td>朝阳区</td>\n      <td>Artistic apartment with culture</td>\n      <td>39.92300</td>\n      <td>116.57996</td>\n      <td>Entire home/apt</td>\n      <td>6</td>\n      <td>3.0</td>\n      <td>3.0</td>\n      <td>421642.10</td>\n      <td>[\"Hot tub\", \"Breakfast\", \"Wifi\", \"Cable TV\", \"...</td>\n      <td>f</td>\n      <td>2016-05-17</td>\n      <td>2016-06-03</td>\n      <td>2</td>\n      <td>100.0</td>\n    </tr>\n    <tr>\n      <th>434</th>\n      <td>15488817</td>\n      <td>68973377</td>\n      <td>朝阳区</td>\n      <td>Hotel apartment close to huge Mall</td>\n      <td>39.92077</td>\n      <td>116.59115</td>\n      <td>Entire home/apt</td>\n      <td>4</td>\n      <td>2.0</td>\n      <td>3.0</td>\n      <td>413636.32</td>\n      <td>[\"Wifi\", \"Carbon monoxide alarm\", \"Shampoo\", \"...</td>\n      <td>f</td>\n      <td>2016-11-29</td>\n      <td>2017-04-17</td>\n      <td>16</td>\n      <td>86.0</td>\n    </tr>\n    <tr>\n      <th>1592</th>\n      <td>24544877</td>\n      <td>184230719</td>\n      <td>朝阳区</td>\n      <td>国贸CBD天安门王府井双井欢乐谷百子湾大望路四惠地铁温馨南北通透超大三居</td>\n      <td>39.89765</td>\n      <td>116.51313</td>\n      <td>Entire home/apt</td>\n      <td>6</td>\n      <td>3.0</td>\n      <td>3.0</td>\n      <td>390494.00</td>\n      <td>[\"Free street parking\", \"Wifi\", \"Heating\", \"Fi...</td>\n      <td>f</td>\n      <td>2018-05-26</td>\n      <td>2019-02-10</td>\n      <td>17</td>\n      <td>98.0</td>\n    </tr>\n    <tr>\n      <th>3392</th>\n      <td>32905425</td>\n      <td>198762745</td>\n      <td>密云区</td>\n      <td>题目：北京密云城区/半岛营地/万象城+独立主卧（双人床）+设施齐全+干净整洁+适合出差旅游或...</td>\n      <td>40.36992</td>\n      <td>116.83090</td>\n      <td>Private room</td>\n      <td>2</td>\n      <td>1.0</td>\n      <td>1.0</td>\n      <td>359150.00</td>\n      <td>[\"Lock on bedroom door\", \"Wifi\", \"Shampoo\", \"H...</td>\n      <td>f</td>\n      <td>2019-04-06</td>\n      <td>2019-04-06</td>\n      <td>1</td>\n      <td>100.0</td>\n    </tr>\n    <tr>\n      <th>593</th>\n      <td>17370399</td>\n      <td>88123574</td>\n      <td>顺义区</td>\n      <td>特价临近首都机场新国展豪华特色大两居（细心茶社）</td>\n      <td>40.03066</td>\n      <td>116.67260</td>\n      <td>Entire home/apt</td>\n      <td>4</td>\n      <td>2.0</td>\n      <td>3.0</td>\n      <td>239428.98</td>\n      <td>[\"Room-darkening shades\", \"Free street parking...</td>\n      <td>f</td>\n      <td>2017-03-01</td>\n      <td>2019-11-16</td>\n      <td>139</td>\n      <td>96.0</td>\n    </tr>\n    <tr>\n      <th>...</th>\n      <td>...</td>\n      <td>...</td>\n      <td>...</td>\n      <td>...</td>\n      <td>...</td>\n      <td>...</td>\n      <td>...</td>\n      <td>...</td>\n      <td>...</td>\n      <td>...</td>\n      <td>...</td>\n      <td>...</td>\n      <td>...</td>\n      <td>...</td>\n      <td>...</td>\n      <td>...</td>\n      <td>...</td>\n    </tr>\n    <tr>\n      <th>7565</th>\n      <td>44053521</td>\n      <td>342826012</td>\n      <td>通州区</td>\n      <td>「网红文艺loft沙发客」近京东 便宜舒适 可看电视 可办公 房东nice</td>\n      <td>39.81510</td>\n      <td>116.59033</td>\n      <td>Shared room</td>\n      <td>1</td>\n      <td>1.0</td>\n      <td>1.0</td>\n      <td>424.45</td>\n      <td>[\"Wifi\", \"Shampoo\", \"Heating\", \"Long term stay...</td>\n      <td>t</td>\n      <td>2020-08-21</td>\n      <td>2020-08-31</td>\n      <td>3</td>\n      <td>93.0</td>\n    </tr>\n    <tr>\n      <th>510</th>\n      <td>16375548</td>\n      <td>106955956</td>\n      <td>朝阳区</td>\n      <td>对外经贸大学北京服装学院芍药居安贞望京南锣鼓巷后海鸟巢水立方地铁附近网红房客厅沙发床位出租（...</td>\n      <td>39.97739</td>\n      <td>116.43111</td>\n      <td>Shared room</td>\n      <td>1</td>\n      <td>1.0</td>\n      <td>1.0</td>\n      <td>424.45</td>\n      <td>[\"Wifi\", \"Shampoo\", \"Heating\", \"TV\", \"Essentia...</td>\n      <td>t</td>\n      <td>2019-09-09</td>\n      <td>2020-11-13</td>\n      <td>12</td>\n      <td>100.0</td>\n    </tr>\n    <tr>\n      <th>9409</th>\n      <td>48007936</td>\n      <td>136347087</td>\n      <td>丰台区</td>\n      <td>近地铁8号14号线舒适床位</td>\n      <td>39.85926</td>\n      <td>116.39329</td>\n      <td>Shared room</td>\n      <td>1</td>\n      <td>1.0</td>\n      <td>1.0</td>\n      <td>404.86</td>\n      <td>[\"Wifi\", \"Cooking basics\", \"Shampoo\", \"Heating...</td>\n      <td>t</td>\n      <td>2021-02-05</td>\n      <td>2021-02-05</td>\n      <td>1</td>\n      <td>100.0</td>\n    </tr>\n    <tr>\n      <th>8806</th>\n      <td>46249198</td>\n      <td>374503328</td>\n      <td>朝阳区</td>\n      <td>女生四人间，上下床。立水桥南站30米。可长租复式结构。超干净房间，时尚超舒适床铺。小姐姐很爱干净</td>\n      <td>40.04378</td>\n      <td>116.41459</td>\n      <td>Shared room</td>\n      <td>4</td>\n      <td>1.0</td>\n      <td>4.0</td>\n      <td>365.68</td>\n      <td>[\"Wifi\", \"Shampoo\", \"Heating\", \"Long term stay...</td>\n      <td>t</td>\n      <td>2020-12-06</td>\n      <td>2020-12-06</td>\n      <td>1</td>\n      <td>100.0</td>\n    </tr>\n    <tr>\n      <th>5536</th>\n      <td>37442910</td>\n      <td>4841273</td>\n      <td>朝阳区</td>\n      <td>超高性价比 | 呼家楼地铁站口 | 近国贸/三里屯/工体 简约温馨大一居尽享繁华</td>\n      <td>39.92306</td>\n      <td>116.46598</td>\n      <td>Entire home/apt</td>\n      <td>2</td>\n      <td>1.0</td>\n      <td>1.0</td>\n      <td>0.00</td>\n      <td>[\"Paid parking off premises\", \"Microwave\", \"Di...</td>\n      <td>f</td>\n      <td>2019-08-26</td>\n      <td>2021-01-25</td>\n      <td>24</td>\n      <td>100.0</td>\n    </tr>\n  </tbody>\n</table>\n<p>9438 rows × 17 columns</p>\n</div>"
     },
     "metadata": {},
     "execution_count": 5
    }
   ],
   "source": [
    "room_df.sort_values(by='price',ascending=False)"
   ]
  },
  {
   "cell_type": "code",
   "execution_count": 4,
   "metadata": {},
   "outputs": [],
   "source": [
    "amenity_dict = {}\n",
    "for amenity_info in room_df['amenities']:\n",
    "    amenity_list = re.findall('\"(.+?)\"',amenity_info)\n",
    "    for amenity in amenity_list:\n",
    "        amenity_dict.setdefault(amenity, 0)\n",
    "        amenity_dict[amenity] += 1"
   ]
  },
  {
   "cell_type": "code",
   "execution_count": 5,
   "metadata": {},
   "outputs": [],
   "source": [
    "# dict(sorted(amenity_dict.items(), key=lambda x: -x[1]))"
   ]
  },
  {
   "cell_type": "code",
   "execution_count": 6,
   "metadata": {},
   "outputs": [],
   "source": [
    "attr_list = ['room_id', 'is_best']\n",
    "attr_list.extend(amenity_dict.keys())\n",
    "attr_list.remove('Wifi')"
   ]
  },
  {
   "cell_type": "code",
   "execution_count": 7,
   "metadata": {},
   "outputs": [],
   "source": [
    "amenity_df = pd.DataFrame(columns=attr_list)"
   ]
  },
  {
   "cell_type": "code",
   "execution_count": 8,
   "metadata": {},
   "outputs": [],
   "source": [
    "amenity_df['room_id'] = room_df['room_id']"
   ]
  },
  {
   "cell_type": "code",
   "execution_count": 9,
   "metadata": {},
   "outputs": [],
   "source": [
    "for amenity in amenity_dict.keys():\r\n",
    "    amenity_df[amenity] = room_df['amenities'].map(lambda x: 1 if amenity in x else 0)\r\n",
    "    "
   ]
  },
  {
   "cell_type": "code",
   "execution_count": 10,
   "metadata": {},
   "outputs": [],
   "source": [
    "amenity_df['is_best'] = amenity_df['room_id'].map(lambda x: 1 if x in best_room_df['room_id'].values else 0)"
   ]
  },
  {
   "cell_type": "code",
   "execution_count": 11,
   "metadata": {},
   "outputs": [
    {
     "output_type": "execute_result",
     "data": {
      "text/plain": [
       "       room_id  is_best  Heating  Shower gel  Fire extinguisher  Elevator  \\\n",
       "0       114465        0        1           1                  1         1   \n",
       "1       685820        0        1           0                  1         1   \n",
       "2       824570        0        1           0                  1         1   \n",
       "3      1325945        0        1           0                  0         1   \n",
       "4      1484562        0        1           0                  0         1   \n",
       "...        ...      ...      ...         ...                ...       ...   \n",
       "9433  48096530        0        1           0                  0         1   \n",
       "9434  48115360        0        1           1                  1         1   \n",
       "9435  48116350        0        0           1                  1         0   \n",
       "9436  48125786        0        1           1                  0         1   \n",
       "9437  48153200        0        0           1                  1         1   \n",
       "\n",
       "      Hangers  Carbon monoxide alarm  Essentials  Hair dryer  ...  \\\n",
       "0           1                      1           1           1  ...   \n",
       "1           1                      0           1           1  ...   \n",
       "2           1                      0           1           1  ...   \n",
       "3           0                      0           1           1  ...   \n",
       "4           1                      0           1           1  ...   \n",
       "...       ...                    ...         ...         ...  ...   \n",
       "9433        1                      0           1           1  ...   \n",
       "9434        1                      0           1           1  ...   \n",
       "9435        1                      0           1           1  ...   \n",
       "9436        1                      0           1           1  ...   \n",
       "9437        1                      1           1           1  ...   \n",
       "\n",
       "      Ceiling fan  Mosquito net  Bluetooth sound system  \\\n",
       "0               0             0                       0   \n",
       "1               0             0                       0   \n",
       "2               0             0                       0   \n",
       "3               0             0                       0   \n",
       "4               0             0                       0   \n",
       "...           ...           ...                     ...   \n",
       "9433            0             0                       0   \n",
       "9434            0             0                       0   \n",
       "9435            0             0                       0   \n",
       "9436            0             0                       0   \n",
       "9437            0             0                       0   \n",
       "\n",
       "      Paid street parking off premises  Drying rack for clothing  \\\n",
       "0                                    0                         0   \n",
       "1                                    0                         0   \n",
       "2                                    0                         0   \n",
       "3                                    0                         0   \n",
       "4                                    0                         0   \n",
       "...                                ...                       ...   \n",
       "9433                                 0                         0   \n",
       "9434                                 0                         0   \n",
       "9435                                 0                         0   \n",
       "9436                                 0                         0   \n",
       "9437                                 0                         0   \n",
       "\n",
       "      Cleaning products  Clothing storage  Dining table  Game console: PS4  \\\n",
       "0                     0                 0             0                  0   \n",
       "1                     0                 0             0                  0   \n",
       "2                     0                 0             0                  0   \n",
       "3                     0                 0             0                  0   \n",
       "4                     0                 0             0                  0   \n",
       "...                 ...               ...           ...                ...   \n",
       "9433                  0                 0             0                  0   \n",
       "9434                  0                 0             0                  0   \n",
       "9435                  0                 0             0                  0   \n",
       "9436                  0                 0             0                  0   \n",
       "9437                  0                 0             0                  0   \n",
       "\n",
       "      Wifi  \n",
       "0        1  \n",
       "1        1  \n",
       "2        1  \n",
       "3        1  \n",
       "4        1  \n",
       "...    ...  \n",
       "9433     1  \n",
       "9434     1  \n",
       "9435     1  \n",
       "9436     1  \n",
       "9437     1  \n",
       "\n",
       "[9438 rows x 118 columns]"
      ],
      "text/html": "<div>\n<style scoped>\n    .dataframe tbody tr th:only-of-type {\n        vertical-align: middle;\n    }\n\n    .dataframe tbody tr th {\n        vertical-align: top;\n    }\n\n    .dataframe thead th {\n        text-align: right;\n    }\n</style>\n<table border=\"1\" class=\"dataframe\">\n  <thead>\n    <tr style=\"text-align: right;\">\n      <th></th>\n      <th>room_id</th>\n      <th>is_best</th>\n      <th>Heating</th>\n      <th>Shower gel</th>\n      <th>Fire extinguisher</th>\n      <th>Elevator</th>\n      <th>Hangers</th>\n      <th>Carbon monoxide alarm</th>\n      <th>Essentials</th>\n      <th>Hair dryer</th>\n      <th>...</th>\n      <th>Ceiling fan</th>\n      <th>Mosquito net</th>\n      <th>Bluetooth sound system</th>\n      <th>Paid street parking off premises</th>\n      <th>Drying rack for clothing</th>\n      <th>Cleaning products</th>\n      <th>Clothing storage</th>\n      <th>Dining table</th>\n      <th>Game console: PS4</th>\n      <th>Wifi</th>\n    </tr>\n  </thead>\n  <tbody>\n    <tr>\n      <th>0</th>\n      <td>114465</td>\n      <td>0</td>\n      <td>1</td>\n      <td>1</td>\n      <td>1</td>\n      <td>1</td>\n      <td>1</td>\n      <td>1</td>\n      <td>1</td>\n      <td>1</td>\n      <td>...</td>\n      <td>0</td>\n      <td>0</td>\n      <td>0</td>\n      <td>0</td>\n      <td>0</td>\n      <td>0</td>\n      <td>0</td>\n      <td>0</td>\n      <td>0</td>\n      <td>1</td>\n    </tr>\n    <tr>\n      <th>1</th>\n      <td>685820</td>\n      <td>0</td>\n      <td>1</td>\n      <td>0</td>\n      <td>1</td>\n      <td>1</td>\n      <td>1</td>\n      <td>0</td>\n      <td>1</td>\n      <td>1</td>\n      <td>...</td>\n      <td>0</td>\n      <td>0</td>\n      <td>0</td>\n      <td>0</td>\n      <td>0</td>\n      <td>0</td>\n      <td>0</td>\n      <td>0</td>\n      <td>0</td>\n      <td>1</td>\n    </tr>\n    <tr>\n      <th>2</th>\n      <td>824570</td>\n      <td>0</td>\n      <td>1</td>\n      <td>0</td>\n      <td>1</td>\n      <td>1</td>\n      <td>1</td>\n      <td>0</td>\n      <td>1</td>\n      <td>1</td>\n      <td>...</td>\n      <td>0</td>\n      <td>0</td>\n      <td>0</td>\n      <td>0</td>\n      <td>0</td>\n      <td>0</td>\n      <td>0</td>\n      <td>0</td>\n      <td>0</td>\n      <td>1</td>\n    </tr>\n    <tr>\n      <th>3</th>\n      <td>1325945</td>\n      <td>0</td>\n      <td>1</td>\n      <td>0</td>\n      <td>0</td>\n      <td>1</td>\n      <td>0</td>\n      <td>0</td>\n      <td>1</td>\n      <td>1</td>\n      <td>...</td>\n      <td>0</td>\n      <td>0</td>\n      <td>0</td>\n      <td>0</td>\n      <td>0</td>\n      <td>0</td>\n      <td>0</td>\n      <td>0</td>\n      <td>0</td>\n      <td>1</td>\n    </tr>\n    <tr>\n      <th>4</th>\n      <td>1484562</td>\n      <td>0</td>\n      <td>1</td>\n      <td>0</td>\n      <td>0</td>\n      <td>1</td>\n      <td>1</td>\n      <td>0</td>\n      <td>1</td>\n      <td>1</td>\n      <td>...</td>\n      <td>0</td>\n      <td>0</td>\n      <td>0</td>\n      <td>0</td>\n      <td>0</td>\n      <td>0</td>\n      <td>0</td>\n      <td>0</td>\n      <td>0</td>\n      <td>1</td>\n    </tr>\n    <tr>\n      <th>...</th>\n      <td>...</td>\n      <td>...</td>\n      <td>...</td>\n      <td>...</td>\n      <td>...</td>\n      <td>...</td>\n      <td>...</td>\n      <td>...</td>\n      <td>...</td>\n      <td>...</td>\n      <td>...</td>\n      <td>...</td>\n      <td>...</td>\n      <td>...</td>\n      <td>...</td>\n      <td>...</td>\n      <td>...</td>\n      <td>...</td>\n      <td>...</td>\n      <td>...</td>\n      <td>...</td>\n    </tr>\n    <tr>\n      <th>9433</th>\n      <td>48096530</td>\n      <td>0</td>\n      <td>1</td>\n      <td>0</td>\n      <td>0</td>\n      <td>1</td>\n      <td>1</td>\n      <td>0</td>\n      <td>1</td>\n      <td>1</td>\n      <td>...</td>\n      <td>0</td>\n      <td>0</td>\n      <td>0</td>\n      <td>0</td>\n      <td>0</td>\n      <td>0</td>\n      <td>0</td>\n      <td>0</td>\n      <td>0</td>\n      <td>1</td>\n    </tr>\n    <tr>\n      <th>9434</th>\n      <td>48115360</td>\n      <td>0</td>\n      <td>1</td>\n      <td>1</td>\n      <td>1</td>\n      <td>1</td>\n      <td>1</td>\n      <td>0</td>\n      <td>1</td>\n      <td>1</td>\n      <td>...</td>\n      <td>0</td>\n      <td>0</td>\n      <td>0</td>\n      <td>0</td>\n      <td>0</td>\n      <td>0</td>\n      <td>0</td>\n      <td>0</td>\n      <td>0</td>\n      <td>1</td>\n    </tr>\n    <tr>\n      <th>9435</th>\n      <td>48116350</td>\n      <td>0</td>\n      <td>0</td>\n      <td>1</td>\n      <td>1</td>\n      <td>0</td>\n      <td>1</td>\n      <td>0</td>\n      <td>1</td>\n      <td>1</td>\n      <td>...</td>\n      <td>0</td>\n      <td>0</td>\n      <td>0</td>\n      <td>0</td>\n      <td>0</td>\n      <td>0</td>\n      <td>0</td>\n      <td>0</td>\n      <td>0</td>\n      <td>1</td>\n    </tr>\n    <tr>\n      <th>9436</th>\n      <td>48125786</td>\n      <td>0</td>\n      <td>1</td>\n      <td>1</td>\n      <td>0</td>\n      <td>1</td>\n      <td>1</td>\n      <td>0</td>\n      <td>1</td>\n      <td>1</td>\n      <td>...</td>\n      <td>0</td>\n      <td>0</td>\n      <td>0</td>\n      <td>0</td>\n      <td>0</td>\n      <td>0</td>\n      <td>0</td>\n      <td>0</td>\n      <td>0</td>\n      <td>1</td>\n    </tr>\n    <tr>\n      <th>9437</th>\n      <td>48153200</td>\n      <td>0</td>\n      <td>0</td>\n      <td>1</td>\n      <td>1</td>\n      <td>1</td>\n      <td>1</td>\n      <td>1</td>\n      <td>1</td>\n      <td>1</td>\n      <td>...</td>\n      <td>0</td>\n      <td>0</td>\n      <td>0</td>\n      <td>0</td>\n      <td>0</td>\n      <td>0</td>\n      <td>0</td>\n      <td>0</td>\n      <td>0</td>\n      <td>1</td>\n    </tr>\n  </tbody>\n</table>\n<p>9438 rows × 118 columns</p>\n</div>"
     },
     "metadata": {},
     "execution_count": 11
    }
   ],
   "source": [
    "amenity_df"
   ]
  },
  {
   "cell_type": "code",
   "execution_count": 12,
   "metadata": {},
   "outputs": [],
   "source": [
    "from mlxtend.frequent_patterns import apriori,association_rules\n",
    "from mlxtend.preprocessing import TransactionEncoder"
   ]
  },
  {
   "cell_type": "code",
   "execution_count": 13,
   "metadata": {},
   "outputs": [],
   "source": [
    "amenity_df.drop(['room_id'],axis=1,inplace=True)"
   ]
  },
  {
   "cell_type": "code",
   "execution_count": 14,
   "metadata": {},
   "outputs": [],
   "source": [
    "frequent_itemsets = apriori(amenity_df, min_support=0.8,use_colnames=True)"
   ]
  },
  {
   "cell_type": "code",
   "execution_count": 16,
   "metadata": {},
   "outputs": [
    {
     "output_type": "execute_result",
     "data": {
      "text/plain": [
       "                  antecedents                consequents  antecedent support  \\\n",
       "0                   (Heating)                  (Hangers)            0.941725   \n",
       "1                   (Hangers)                  (Heating)            0.907608   \n",
       "2                (Essentials)                  (Heating)            0.937381   \n",
       "3                   (Heating)               (Essentials)            0.941725   \n",
       "4                (Hair dryer)                  (Heating)            0.946917   \n",
       "5                   (Heating)               (Hair dryer)            0.941725   \n",
       "6                    (Washer)                  (Heating)            0.852193   \n",
       "7                   (Heating)                   (Washer)            0.941725   \n",
       "8          (Air conditioning)                  (Heating)            0.962598   \n",
       "9                   (Heating)         (Air conditioning)            0.941725   \n",
       "10                  (Shampoo)                  (Heating)            0.950413   \n",
       "11                  (Heating)                  (Shampoo)            0.941725   \n",
       "12                  (Heating)  (Long term stays allowed)            0.941725   \n",
       "13  (Long term stays allowed)                  (Heating)            0.958360   \n",
       "14                     (Wifi)                  (Heating)            0.979127   \n",
       "15                  (Heating)                     (Wifi)            0.941725   \n",
       "16               (Essentials)                  (Hangers)            0.937381   \n",
       "17                  (Hangers)               (Essentials)            0.907608   \n",
       "18               (Hair dryer)                  (Hangers)            0.946917   \n",
       "19                  (Hangers)               (Hair dryer)            0.907608   \n",
       "20         (Air conditioning)                  (Hangers)            0.962598   \n",
       "21                  (Hangers)         (Air conditioning)            0.907608   \n",
       "22                  (Shampoo)                  (Hangers)            0.950413   \n",
       "23                  (Hangers)                  (Shampoo)            0.907608   \n",
       "24                  (Hangers)  (Long term stays allowed)            0.907608   \n",
       "25  (Long term stays allowed)                  (Hangers)            0.958360   \n",
       "26                     (Wifi)                  (Hangers)            0.979127   \n",
       "27                  (Hangers)                     (Wifi)            0.907608   \n",
       "28               (Essentials)               (Hair dryer)            0.937381   \n",
       "29               (Hair dryer)               (Essentials)            0.946917   \n",
       "\n",
       "    consequent support   support  confidence      lift  leverage  conviction  \n",
       "0             0.907608  0.861941    0.915279  1.008452  0.007224    1.090550  \n",
       "1             0.941725  0.861941    0.949685  1.008452  0.007224    1.158200  \n",
       "2             0.941725  0.885145    0.944275  1.002708  0.002390    1.045760  \n",
       "3             0.937381  0.885145    0.939919  1.002708  0.002390    1.042246  \n",
       "4             0.941725  0.898601    0.948976  1.007700  0.006866    1.142114  \n",
       "5             0.946917  0.898601    0.954208  1.007700  0.006866    1.159224  \n",
       "6             0.941725  0.813308    0.954370  1.013428  0.010776    1.277129  \n",
       "7             0.852193  0.813308    0.863636  1.013428  0.010776    1.083916  \n",
       "8             0.941725  0.914071    0.949587  1.008349  0.007568    1.155958  \n",
       "9             0.962598  0.914071    0.970635  1.008349  0.007568    1.273674  \n",
       "10            0.941725  0.898919    0.945819  1.004348  0.003891    1.075571  \n",
       "11            0.950413  0.898919    0.954545  1.004348  0.003891    1.090909  \n",
       "12            0.958360  0.903051    0.958933  1.000598  0.000540    1.013967  \n",
       "13            0.941725  0.903051    0.942289  1.000598  0.000540    1.009766  \n",
       "14            0.941725  0.925514    0.945244  1.003737  0.003446    1.064268  \n",
       "15            0.979127  0.925514    0.982786  1.003737  0.003446    1.212548  \n",
       "16            0.907608  0.864802    0.922573  1.016488  0.014028    1.193279  \n",
       "17            0.937381  0.864802    0.952837  1.016488  0.014028    1.327713  \n",
       "18            0.907608  0.870206    0.918988  1.012539  0.010777    1.140485  \n",
       "19            0.946917  0.870206    0.958791  1.012539  0.010777    1.288134  \n",
       "20            0.907608  0.875821    0.909851  1.002472  0.002160    1.024891  \n",
       "21            0.962598  0.875821    0.964978  1.002472  0.002160    1.067952  \n",
       "22            0.907608  0.878576    0.924415  1.018518  0.015974    1.222360  \n",
       "23            0.950413  0.878576    0.968013  1.018518  0.015974    1.550220  \n",
       "24            0.958360  0.879000    0.968480  1.010560  0.009185    1.321073  \n",
       "25            0.907608  0.879000    0.917192  1.010560  0.009185    1.115741  \n",
       "26            0.907608  0.891079    0.910075  1.002718  0.002416    1.027435  \n",
       "27            0.979127  0.891079    0.981788  1.002718  0.002416    1.146145  \n",
       "28            0.946917  0.895847    0.955691  1.009266  0.008225    1.198030  \n",
       "29            0.937381  0.895847    0.946067  1.009266  0.008225    1.161053  "
      ],
      "text/html": "<div>\n<style scoped>\n    .dataframe tbody tr th:only-of-type {\n        vertical-align: middle;\n    }\n\n    .dataframe tbody tr th {\n        vertical-align: top;\n    }\n\n    .dataframe thead th {\n        text-align: right;\n    }\n</style>\n<table border=\"1\" class=\"dataframe\">\n  <thead>\n    <tr style=\"text-align: right;\">\n      <th></th>\n      <th>antecedents</th>\n      <th>consequents</th>\n      <th>antecedent support</th>\n      <th>consequent support</th>\n      <th>support</th>\n      <th>confidence</th>\n      <th>lift</th>\n      <th>leverage</th>\n      <th>conviction</th>\n    </tr>\n  </thead>\n  <tbody>\n    <tr>\n      <th>0</th>\n      <td>(Heating)</td>\n      <td>(Hangers)</td>\n      <td>0.941725</td>\n      <td>0.907608</td>\n      <td>0.861941</td>\n      <td>0.915279</td>\n      <td>1.008452</td>\n      <td>0.007224</td>\n      <td>1.090550</td>\n    </tr>\n    <tr>\n      <th>1</th>\n      <td>(Hangers)</td>\n      <td>(Heating)</td>\n      <td>0.907608</td>\n      <td>0.941725</td>\n      <td>0.861941</td>\n      <td>0.949685</td>\n      <td>1.008452</td>\n      <td>0.007224</td>\n      <td>1.158200</td>\n    </tr>\n    <tr>\n      <th>2</th>\n      <td>(Essentials)</td>\n      <td>(Heating)</td>\n      <td>0.937381</td>\n      <td>0.941725</td>\n      <td>0.885145</td>\n      <td>0.944275</td>\n      <td>1.002708</td>\n      <td>0.002390</td>\n      <td>1.045760</td>\n    </tr>\n    <tr>\n      <th>3</th>\n      <td>(Heating)</td>\n      <td>(Essentials)</td>\n      <td>0.941725</td>\n      <td>0.937381</td>\n      <td>0.885145</td>\n      <td>0.939919</td>\n      <td>1.002708</td>\n      <td>0.002390</td>\n      <td>1.042246</td>\n    </tr>\n    <tr>\n      <th>4</th>\n      <td>(Hair dryer)</td>\n      <td>(Heating)</td>\n      <td>0.946917</td>\n      <td>0.941725</td>\n      <td>0.898601</td>\n      <td>0.948976</td>\n      <td>1.007700</td>\n      <td>0.006866</td>\n      <td>1.142114</td>\n    </tr>\n    <tr>\n      <th>5</th>\n      <td>(Heating)</td>\n      <td>(Hair dryer)</td>\n      <td>0.941725</td>\n      <td>0.946917</td>\n      <td>0.898601</td>\n      <td>0.954208</td>\n      <td>1.007700</td>\n      <td>0.006866</td>\n      <td>1.159224</td>\n    </tr>\n    <tr>\n      <th>6</th>\n      <td>(Washer)</td>\n      <td>(Heating)</td>\n      <td>0.852193</td>\n      <td>0.941725</td>\n      <td>0.813308</td>\n      <td>0.954370</td>\n      <td>1.013428</td>\n      <td>0.010776</td>\n      <td>1.277129</td>\n    </tr>\n    <tr>\n      <th>7</th>\n      <td>(Heating)</td>\n      <td>(Washer)</td>\n      <td>0.941725</td>\n      <td>0.852193</td>\n      <td>0.813308</td>\n      <td>0.863636</td>\n      <td>1.013428</td>\n      <td>0.010776</td>\n      <td>1.083916</td>\n    </tr>\n    <tr>\n      <th>8</th>\n      <td>(Air conditioning)</td>\n      <td>(Heating)</td>\n      <td>0.962598</td>\n      <td>0.941725</td>\n      <td>0.914071</td>\n      <td>0.949587</td>\n      <td>1.008349</td>\n      <td>0.007568</td>\n      <td>1.155958</td>\n    </tr>\n    <tr>\n      <th>9</th>\n      <td>(Heating)</td>\n      <td>(Air conditioning)</td>\n      <td>0.941725</td>\n      <td>0.962598</td>\n      <td>0.914071</td>\n      <td>0.970635</td>\n      <td>1.008349</td>\n      <td>0.007568</td>\n      <td>1.273674</td>\n    </tr>\n    <tr>\n      <th>10</th>\n      <td>(Shampoo)</td>\n      <td>(Heating)</td>\n      <td>0.950413</td>\n      <td>0.941725</td>\n      <td>0.898919</td>\n      <td>0.945819</td>\n      <td>1.004348</td>\n      <td>0.003891</td>\n      <td>1.075571</td>\n    </tr>\n    <tr>\n      <th>11</th>\n      <td>(Heating)</td>\n      <td>(Shampoo)</td>\n      <td>0.941725</td>\n      <td>0.950413</td>\n      <td>0.898919</td>\n      <td>0.954545</td>\n      <td>1.004348</td>\n      <td>0.003891</td>\n      <td>1.090909</td>\n    </tr>\n    <tr>\n      <th>12</th>\n      <td>(Heating)</td>\n      <td>(Long term stays allowed)</td>\n      <td>0.941725</td>\n      <td>0.958360</td>\n      <td>0.903051</td>\n      <td>0.958933</td>\n      <td>1.000598</td>\n      <td>0.000540</td>\n      <td>1.013967</td>\n    </tr>\n    <tr>\n      <th>13</th>\n      <td>(Long term stays allowed)</td>\n      <td>(Heating)</td>\n      <td>0.958360</td>\n      <td>0.941725</td>\n      <td>0.903051</td>\n      <td>0.942289</td>\n      <td>1.000598</td>\n      <td>0.000540</td>\n      <td>1.009766</td>\n    </tr>\n    <tr>\n      <th>14</th>\n      <td>(Wifi)</td>\n      <td>(Heating)</td>\n      <td>0.979127</td>\n      <td>0.941725</td>\n      <td>0.925514</td>\n      <td>0.945244</td>\n      <td>1.003737</td>\n      <td>0.003446</td>\n      <td>1.064268</td>\n    </tr>\n    <tr>\n      <th>15</th>\n      <td>(Heating)</td>\n      <td>(Wifi)</td>\n      <td>0.941725</td>\n      <td>0.979127</td>\n      <td>0.925514</td>\n      <td>0.982786</td>\n      <td>1.003737</td>\n      <td>0.003446</td>\n      <td>1.212548</td>\n    </tr>\n    <tr>\n      <th>16</th>\n      <td>(Essentials)</td>\n      <td>(Hangers)</td>\n      <td>0.937381</td>\n      <td>0.907608</td>\n      <td>0.864802</td>\n      <td>0.922573</td>\n      <td>1.016488</td>\n      <td>0.014028</td>\n      <td>1.193279</td>\n    </tr>\n    <tr>\n      <th>17</th>\n      <td>(Hangers)</td>\n      <td>(Essentials)</td>\n      <td>0.907608</td>\n      <td>0.937381</td>\n      <td>0.864802</td>\n      <td>0.952837</td>\n      <td>1.016488</td>\n      <td>0.014028</td>\n      <td>1.327713</td>\n    </tr>\n    <tr>\n      <th>18</th>\n      <td>(Hair dryer)</td>\n      <td>(Hangers)</td>\n      <td>0.946917</td>\n      <td>0.907608</td>\n      <td>0.870206</td>\n      <td>0.918988</td>\n      <td>1.012539</td>\n      <td>0.010777</td>\n      <td>1.140485</td>\n    </tr>\n    <tr>\n      <th>19</th>\n      <td>(Hangers)</td>\n      <td>(Hair dryer)</td>\n      <td>0.907608</td>\n      <td>0.946917</td>\n      <td>0.870206</td>\n      <td>0.958791</td>\n      <td>1.012539</td>\n      <td>0.010777</td>\n      <td>1.288134</td>\n    </tr>\n    <tr>\n      <th>20</th>\n      <td>(Air conditioning)</td>\n      <td>(Hangers)</td>\n      <td>0.962598</td>\n      <td>0.907608</td>\n      <td>0.875821</td>\n      <td>0.909851</td>\n      <td>1.002472</td>\n      <td>0.002160</td>\n      <td>1.024891</td>\n    </tr>\n    <tr>\n      <th>21</th>\n      <td>(Hangers)</td>\n      <td>(Air conditioning)</td>\n      <td>0.907608</td>\n      <td>0.962598</td>\n      <td>0.875821</td>\n      <td>0.964978</td>\n      <td>1.002472</td>\n      <td>0.002160</td>\n      <td>1.067952</td>\n    </tr>\n    <tr>\n      <th>22</th>\n      <td>(Shampoo)</td>\n      <td>(Hangers)</td>\n      <td>0.950413</td>\n      <td>0.907608</td>\n      <td>0.878576</td>\n      <td>0.924415</td>\n      <td>1.018518</td>\n      <td>0.015974</td>\n      <td>1.222360</td>\n    </tr>\n    <tr>\n      <th>23</th>\n      <td>(Hangers)</td>\n      <td>(Shampoo)</td>\n      <td>0.907608</td>\n      <td>0.950413</td>\n      <td>0.878576</td>\n      <td>0.968013</td>\n      <td>1.018518</td>\n      <td>0.015974</td>\n      <td>1.550220</td>\n    </tr>\n    <tr>\n      <th>24</th>\n      <td>(Hangers)</td>\n      <td>(Long term stays allowed)</td>\n      <td>0.907608</td>\n      <td>0.958360</td>\n      <td>0.879000</td>\n      <td>0.968480</td>\n      <td>1.010560</td>\n      <td>0.009185</td>\n      <td>1.321073</td>\n    </tr>\n    <tr>\n      <th>25</th>\n      <td>(Long term stays allowed)</td>\n      <td>(Hangers)</td>\n      <td>0.958360</td>\n      <td>0.907608</td>\n      <td>0.879000</td>\n      <td>0.917192</td>\n      <td>1.010560</td>\n      <td>0.009185</td>\n      <td>1.115741</td>\n    </tr>\n    <tr>\n      <th>26</th>\n      <td>(Wifi)</td>\n      <td>(Hangers)</td>\n      <td>0.979127</td>\n      <td>0.907608</td>\n      <td>0.891079</td>\n      <td>0.910075</td>\n      <td>1.002718</td>\n      <td>0.002416</td>\n      <td>1.027435</td>\n    </tr>\n    <tr>\n      <th>27</th>\n      <td>(Hangers)</td>\n      <td>(Wifi)</td>\n      <td>0.907608</td>\n      <td>0.979127</td>\n      <td>0.891079</td>\n      <td>0.981788</td>\n      <td>1.002718</td>\n      <td>0.002416</td>\n      <td>1.146145</td>\n    </tr>\n    <tr>\n      <th>28</th>\n      <td>(Essentials)</td>\n      <td>(Hair dryer)</td>\n      <td>0.937381</td>\n      <td>0.946917</td>\n      <td>0.895847</td>\n      <td>0.955691</td>\n      <td>1.009266</td>\n      <td>0.008225</td>\n      <td>1.198030</td>\n    </tr>\n    <tr>\n      <th>29</th>\n      <td>(Hair dryer)</td>\n      <td>(Essentials)</td>\n      <td>0.946917</td>\n      <td>0.937381</td>\n      <td>0.895847</td>\n      <td>0.946067</td>\n      <td>1.009266</td>\n      <td>0.008225</td>\n      <td>1.161053</td>\n    </tr>\n  </tbody>\n</table>\n</div>"
     },
     "metadata": {},
     "execution_count": 16
    }
   ],
   "source": [
    "rules = association_rules(frequent_itemsets, metric=\"lift\", min_threshold=1)\n",
    "rules.head(30)"
   ]
  }
 ]
}